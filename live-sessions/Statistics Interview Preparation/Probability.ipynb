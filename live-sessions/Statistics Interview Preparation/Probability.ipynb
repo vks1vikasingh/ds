{
 "cells": [
  {
   "cell_type": "markdown",
   "metadata": {},
   "source": [
    "### Joint Probability refers to the probability of occurrence involving two or more events"
   ]
  },
  {
   "cell_type": "markdown",
   "metadata": {},
   "source": [
    "### Example 1"
   ]
  },
  {
   "cell_type": "markdown",
   "metadata": {},
   "source": [
    "Let A and B be the two events in a sample space. Then the joint probability if the two events denoted by P(A $\\cap$ B), is given by \n",
    "$P(A \\cap B) = \\frac{Number \\quad of \\quad observations \\quad in \\quad A \\cap B } {Total \\quad Number \\quad of \\quad observations}$ "
   ]
  },
  {
   "cell_type": "markdown",
   "metadata": {},
   "source": [
    "At a popular company service center, a total of 100 complaints were received. 80 customers complained about late delivery of the items and 60 complained about poor product quality.\n",
    "\n",
    "* a) Calculate the probability that a customer complaint will be about both product quality and late delivery.\n",
    "* b) What is the probability that a complaint will be only about  late delivery?"
   ]
  },
  {
   "cell_type": "markdown",
   "metadata": {},
   "source": [
    "### Solution:\n",
    "\n",
    "a) Calculate the probability that a customer complaint will be about both product quality and late delivery"
   ]
  },
  {
   "cell_type": "markdown",
   "metadata": {},
   "source": [
    "Let\n",
    "*    L    = Late delivery\n",
    "*    Q    = Poor quality\n",
    "*    n(L) = Number of cases in favour of L =  80\n",
    "*    n(Q) = Number of cases in favour of Q =  60\n",
    "*    N    = Total Number of complaints     = 100    "
   ]
  },
  {
   "cell_type": "markdown",
   "metadata": {},
   "source": [
    "$n(L \\cap Q)$ = (80 + 60) - 100 = 40 "
   ]
  },
  {
   "cell_type": "markdown",
   "metadata": {},
   "source": [
    "Probability that a customer complaint will be about both product quality and late delivery = $P(L \\cap Q)$"
   ]
  },
  {
   "cell_type": "markdown",
   "metadata": {},
   "source": [
    " $P(L \\cap Q) =  \\frac{n(L \\cap Q)} {Total \\quad Number \\quad of \\quad observations}$ "
   ]
  },
  {
   "cell_type": "code",
   "execution_count": 4,
   "metadata": {},
   "outputs": [
    {
     "name": "stdout",
     "output_type": "stream",
     "text": [
      "a.Probability that a customer complaint will\n",
      "       be about both product quality and late delivery. is 0.4000\n"
     ]
    }
   ],
   "source": [
    "FE4 = 40 # = (80 + 60) - 100 \n",
    "TE  = 100\n",
    "PE4 = round(FE4 / TE,4) \n",
    "print('a.Probability that a customer complaint will\\n\\\n",
    "       be about both product quality and late delivery. is %1.4f' % PE4)"
   ]
  },
  {
   "cell_type": "markdown",
   "metadata": {},
   "source": [
    "b. What is the probability that a complaint will be only about late delivery"
   ]
  },
  {
   "cell_type": "code",
   "execution_count": 5,
   "metadata": {
    "scrolled": true
   },
   "outputs": [
    {
     "name": "stdout",
     "output_type": "stream",
     "text": [
      "b.probability that a complaint will be \n",
      "         only about late delivery. is 0.4000\n"
     ]
    }
   ],
   "source": [
    "# FE5 is the complaints about poor quality\n",
    "FE5 = 60\n",
    "TE  = 100\n",
    "PE5 = round(FE5 / TE,4) \n",
    "PE6 = 1 - PE5\n",
    "# So,1 - PE5 is the Probability that a customer complaint will be about\n",
    "#        both product quality and late delivery \n",
    "print('b.probability that a complaint will be \\n\\\n",
    "         only about late delivery. is %1.4f' % PE6)"
   ]
  },
  {
   "cell_type": "markdown",
   "metadata": {},
   "source": [
    "### Practice Exercise 1"
   ]
  },
  {
   "cell_type": "markdown",
   "metadata": {},
   "source": [
    "**Consider the following Contingency table:**\n",
    "\n",
    "| Event | Event B | Event $B'$ |\n",
    "| ------- | ----- | ------ |\n",
    "| A | 10 | 20 |\n",
    "| $A'$ | 20 | 40 |"
   ]
  },
  {
   "cell_type": "markdown",
   "metadata": {},
   "source": [
    "* a. What is the probability of A | B?\n",
    "* b. What is the probability of A | $B'$?\n",
    "* c. What is the probability of $A'$ | $B'$?\n",
    "* d. Are events A and B independent?"
   ]
  },
  {
   "cell_type": "markdown",
   "metadata": {},
   "source": [
    "Hint: Events A and B are independent, when P(A|B) = P(A)"
   ]
  },
  {
   "cell_type": "markdown",
   "metadata": {},
   "source": [
    "### General addition rule"
   ]
  },
  {
   "cell_type": "markdown",
   "metadata": {},
   "source": [
    "To get the probability of the event *A* or *B*, you need to consider the occurrence of either event A or B or both A and B."
   ]
  },
  {
   "cell_type": "markdown",
   "metadata": {},
   "source": [
    "#### General addition rule"
   ]
  },
  {
   "cell_type": "markdown",
   "metadata": {},
   "source": [
    "P(A or B)   = P(A) + P(B) - P(A and B)"
   ]
  },
  {
   "cell_type": "markdown",
   "metadata": {},
   "source": [
    "From set theory\n",
    "* P(A$\\cup$B) is the event that either A or B or both occur.\n",
    "* P(A$\\cap$B) is the event that both A and B occur at the same time.\n",
    "* Events A and B are mutually exclusive if they cannot happen at the same time:\n"
   ]
  },
  {
   "cell_type": "markdown",
   "metadata": {},
   "source": [
    "P(A$\\cup$B) = P(A) + P(B) - P(A $\\cap$ B)"
   ]
  },
  {
   "cell_type": "markdown",
   "metadata": {},
   "source": [
    "### Example 6\n",
    "\n"
   ]
  },
  {
   "cell_type": "markdown",
   "metadata": {},
   "source": [
    "The following table describes loan default status at a bank and their marital status. \n",
    "\n",
    "| Marital Status | Loan Defaulted | Loan No Default | Marginal Total |\n",
    "| ----------- | ------ | ------- | -------- |\n",
    "| Single | 42 | 258 | 300 |\n",
    "| Married | 60 | 590 | 650 |\n",
    "| Divorced | 13 | 37 | 50 |\n",
    "| Marginal Total | 115 | 885 | 1000 |\n"
   ]
  },
  {
   "cell_type": "markdown",
   "metadata": {},
   "source": [
    "Based on the above table, calculate the probability of default  given divorced."
   ]
  },
  {
   "cell_type": "code",
   "execution_count": 10,
   "metadata": {},
   "outputs": [
    {
     "name": "stdout",
     "output_type": "stream",
     "text": [
      "P(Default | Divorced)  is 0.2600\n"
     ]
    }
   ],
   "source": [
    "# P1 = P(Default and Divorced)\n",
    "P1   = 13 / 50\n",
    "# P2 = P(Divorced)\n",
    "P2   = 50 / 1000\n",
    "#P3  = P(Default | Divorced) = P(Default and Divorced) / P(Divorced)\n",
    "P3   = (13/1000) / (50/1000)\n",
    "print('P(Default | Divorced)  is %1.4f' % P3)     "
   ]
  },
  {
   "cell_type": "markdown",
   "metadata": {},
   "source": [
    "### Independent Events"
   ]
  },
  {
   "cell_type": "markdown",
   "metadata": {},
   "source": [
    "Two events, A and B are independent if and only if\n",
    "P(A | B) = P(A), \n",
    "\n",
    "where \n",
    "* P(A|B) is the conditional probability of A given B\n",
    "* P(A)   is the marginal probability of A"
   ]
  },
  {
   "cell_type": "markdown",
   "metadata": {},
   "source": [
    "Example: A student getting A grade in both Final Stats exam and in final Marketing exam"
   ]
  },
  {
   "cell_type": "markdown",
   "metadata": {
    "collapsed": true
   },
   "source": [
    "## Application of Probability Rules"
   ]
  },
  {
   "cell_type": "markdown",
   "metadata": {},
   "source": [
    "### Association Rule Mining"
   ]
  },
  {
   "cell_type": "markdown",
   "metadata": {},
   "source": [
    "By using simple probability concepts such as Joint probability and Conditional probability, we solve Market Basket Analysis and Recommender Systems. The algorithm used is **Association Rule Mining**. "
   ]
  },
  {
   "cell_type": "markdown",
   "metadata": {},
   "source": [
    "**Market Basket Analysis** is used frequently by retailers to predict products a customer is likely to buy together to improve their sales.\n",
    "\n",
    "For example, if a customer buys **bread**, he/she is likely to buy **jam or butter**.\n",
    "\n",
    "**Recommender Systems** are models that produce list of recommendations to a customer on products such as moives, electronic items, etc.\n",
    "\n",
    "As you are aware, companies like **Amazon** benefitted significantly by using recommender systems."
   ]
  },
  {
   "cell_type": "markdown",
   "metadata": {},
   "source": [
    "### Association Rule Mining"
   ]
  },
  {
   "cell_type": "markdown",
   "metadata": {},
   "source": [
    "* This is a method of finding association between different entities in data.\n",
    "* In a retail context, this is a method of finding association relationships that exists in *items frequently purchased* or *frequently purchased items*.\n",
    "* Association Rule is a relationship of the form X -> Y (X implies Y), where X and Y are mutually exclusive SKU sets."
   ]
  },
  {
   "cell_type": "markdown",
   "metadata": {},
   "source": [
    "### Creating Association Rules"
   ]
  },
  {
   "cell_type": "markdown",
   "metadata": {},
   "source": [
    "### Point of Sale (PoS) data"
   ]
  },
  {
   "cell_type": "markdown",
   "metadata": {},
   "source": [
    "| Invoice No | Milk | Bread | Butter | Jam |\n",
    "| --- | ---- | ---- | ---- | ----- |\n",
    "| 1 | Y | Y | N | N|\n",
    "| 2 | N | Y | Y | N|\n",
    "| 3 | N | Y | Y | N|\n",
    "| 4 | N | Y | N | Y|\n",
    "| 5 | Y | Y | N | N|\n",
    "| 6 | Y | Y | N | N|\n",
    "| 7 | N | Y | Y | N|\n",
    "| 8 | N | Y | Y | N|\n",
    "| 9 | N | Y | N | Y|\n",
    "| 10 | Y | N | N | N|"
   ]
  },
  {
   "cell_type": "markdown",
   "metadata": {},
   "source": [
    "In the above table, Milk, Bread, Butter and Jam are the different SKUs sold by the store. Y means the item is purchased and N means the item is not purchased. \n",
    "The strength of the association between two mutually exclusive subsets can be measured using *Support*, *Confidence* and *Lift*."
   ]
  },
  {
   "cell_type": "markdown",
   "metadata": {},
   "source": [
    "### Support between two sets is the joint probability of those events"
   ]
  },
  {
   "cell_type": "markdown",
   "metadata": {},
   "source": [
    "* Support is the proportion of times, items A and B are purchased together.\n",
    "* Support(A, B) = P(A $\\cap$ B) = n(A $\\cap$ B) / N\n",
    "where n(A $\\cap$ B) is the number of times both item A and item B is purchased together."
   ]
  },
  {
   "cell_type": "markdown",
   "metadata": {},
   "source": [
    "### Example 8\n",
    "From the above table, assume A to be Bread and B to be Milk.\n",
    "\n",
    "Support(A, B) = P(A ∩ B) "
   ]
  },
  {
   "cell_type": "code",
   "execution_count": 12,
   "metadata": {},
   "outputs": [
    {
     "name": "stdout",
     "output_type": "stream",
     "text": [
      "Support(Bread and Milk)  is 0.3000\n"
     ]
    }
   ],
   "source": [
    "# Let S_A_B = P(A ∩ B)\n",
    "S_A_B = 3 / 10 #  Refer invoices 1,5,6\n",
    "print('Support(Bread and Milk)  is %1.4f' % S_A_B) "
   ]
  },
  {
   "cell_type": "markdown",
   "metadata": {},
   "source": [
    "### Confidence is the conditional probability of purchasing item B given the item B is purchased."
   ]
  },
  {
   "cell_type": "markdown",
   "metadata": {},
   "source": [
    "Confidence(A, B) = P(A $\\cap$ B) / P(A) "
   ]
  },
  {
   "cell_type": "code",
   "execution_count": 13,
   "metadata": {},
   "outputs": [
    {
     "name": "stdout",
     "output_type": "stream",
     "text": [
      "Assume C_A_B be the confidence of purchasing a item B\n",
      "\tgiven the item A is purchased.\n",
      "S_A_B =  P(A ∩ B) as discussed earlier.\n",
      "Confidence(Bread a∩d Milk)  is 0.3333\n"
     ]
    }
   ],
   "source": [
    "print('Assume C_A_B be the confidence of purchasing a item B') \n",
    "print('\\tgiven the item A is purchased.')\n",
    "print('S_A_B =  P(A ∩ B) as discussed earlier.')\n",
    "P1    = 9/10 # = P(A). 9 invoices have item Bread out of 10\n",
    "C_A_B   =  S_A_B / P1 \n",
    "print('Confidence(Bread a∩d Milk)  is %1.4f' % C_A_B) "
   ]
  },
  {
   "cell_type": "markdown",
   "metadata": {},
   "source": [
    "### Lift is a measure for a rule.\n",
    "\n",
    "* With lift value you can interpret the importance of a rule. \n",
    "* The lift value of an association rule is the ratio of the confidence of the rule and the expected confidence of the rule.\n",
    "* The expected confidence of a rule is the product of the support values of the rule body and rule head divided by the support of the rule body.\n",
    "* In our example, A is the rule head and B is the rule body.\n",
    "* Lift = $\\frac {P(A ∩ B)} {P(A) P(B)}$"
   ]
  },
  {
   "cell_type": "code",
   "execution_count": 14,
   "metadata": {},
   "outputs": [
    {
     "name": "stdout",
     "output_type": "stream",
     "text": [
      "Assume L_A_B be the Lift of purchasing a item B\n",
      "\tgiven the item A is purchased.\n",
      "S_A_B =  P(A ∩ B) as discussed earlier.\n",
      "P1    = 0.9 as shown above\n",
      "Lift(Bread a∩d Milk)  is 0.8333\n"
     ]
    }
   ],
   "source": [
    "print('Assume L_A_B be the Lift of purchasing a item B') \n",
    "print('\\tgiven the item A is purchased.')\n",
    "print('S_A_B =  P(A ∩ B) as discussed earlier.')\n",
    "print('P1    = 0.9 as shown above')\n",
    "P2      =  4 / 10 # P(B) Refer invoices 1,5,6 and 10\n",
    "L_A_B   =  S_A_B / (P1  * P2)\n",
    "print('Lift(Bread a∩d Milk)  is %1.4f' % L_A_B) "
   ]
  },
  {
   "cell_type": "markdown",
   "metadata": {},
   "source": [
    "Association rules can be generated based on threshold values of support, confidence and lift.\n",
    "Assume that the threshold values are given for these measures as follows:\n",
    "* Support    = 0.25\n",
    "* Confidence = 0.50\n",
    "* Lift       > 1\n",
    "\n",
    "For the rule Bread >> Milk, \n",
    "* support    is 0.30\n",
    "* confidence is 0.33\n",
    "* lift       is 0.83\n",
    "\n",
    "So, this rule is not qualified to be considered for the association rule."
   ]
  },
  {
   "cell_type": "markdown",
   "metadata": {},
   "source": [
    "A lift smaller than 1 indicates that the item A and item B appear less often together than expected.\n",
    "This implies that the occurrence of item A has a negative effect on the occurrence of item B."
   ]
  },
  {
   "cell_type": "markdown",
   "metadata": {
    "collapsed": true
   },
   "source": [
    "## Bayes theorem"
   ]
  },
  {
   "cell_type": "markdown",
   "metadata": {},
   "source": [
    "Bayes' Theorem is used to revise previously calcualted probabilities based on new information"
   ]
  },
  {
   "cell_type": "markdown",
   "metadata": {},
   "source": [
    "$P(B_{i}\\mid A)$ = $\\frac{P(A \\mid B_{i}) P(B_{i})}{P(A \\mid B_{1})P(B_{1}) + P(A \\mid B_{2}) P(B_{2}) + P(A \\mid B_{3}) P(B_{3}) + .. + P(A \\mid B_{k}) P(B_{k})}$\n",
    "\n",
    "where \n",
    "$B_{i}$ is the ith event of k mutually exclusive and collectively exhaustive events\n",
    "A is the new event that might impact P($B_{i}$)"
   ]
  },
  {
   "cell_type": "markdown",
   "metadata": {},
   "source": [
    "### Example 9"
   ]
  },
  {
   "cell_type": "markdown",
   "metadata": {},
   "source": [
    "A certain Electronic equipment is manufactured by three companies, X, Y and Z. \n",
    "* 75% are manufactured by X\n",
    "* 15% are manufactured by Y\n",
    "* 10% are manufactured by Z\n",
    "\n",
    "The defect rates of electronic equipement manufactured by companies X, Y and Z are 4%, 6% and 8%.\n",
    "\n",
    "If an electronic equipment is randomly found to be defective, what is the probability that it is manufactured by X?"
   ]
  },
  {
   "cell_type": "markdown",
   "metadata": {},
   "source": [
    "* Let P(X),P(Y) and P(Z) be probabilities of the electronic equipment manufactured by companies X, Y and Z respectively. \n",
    "* Let P(D) be the probability of defective electronic equipment.\n",
    "\n",
    "We are interested in calculating the probability P(X|D).\n",
    "\n",
    "P(X|D) = $\\frac{P(D | X) P(X)} {P(D)}$\n"
   ]
  },
  {
   "cell_type": "markdown",
   "metadata": {},
   "source": [
    "Bayes' rule in our case is given below:\n",
    "\n",
    "$P(X \\mid D)$ = $\\frac{P(D \\mid X) P(X)} {P(D \\mid X)P(D) + P(D \\mid Y) P(D) + P(D \\mid Z) P(D)}$\n"
   ]
  },
  {
   "cell_type": "code",
   "execution_count": 15,
   "metadata": {},
   "outputs": [
    {
     "name": "stdout",
     "output_type": "stream",
     "text": [
      "P(X|D)  is 0.6383\n"
     ]
    }
   ],
   "source": [
    "# Let P1 = P(D|X)\n",
    "# Let P2 = P(X)\n",
    "# Let P3 = P(D∣X)P(D)+P(D∣Y)P(D)+P(D∣Z)P(D)\n",
    "# Let P  = P(X|D) = (P1 * P2) / P3\n",
    "\n",
    "P1       =  0.04 # prob. of defective item manufactured by X\n",
    "P2       =  0.75\n",
    "P3       =  0.75 * 0.04 + 0.15 * 0.06 + 0.10 * 0.08 \n",
    "P        =  round((P1 * P2)/P3,4)\n",
    "print('P(X|D)  is %1.4f' % P)              "
   ]
  },
  {
   "cell_type": "markdown",
   "metadata": {},
   "source": [
    "### Example 11"
   ]
  },
  {
   "cell_type": "markdown",
   "metadata": {},
   "source": [
    "A1 Electronic World is considering marketing a new model of televisions. In the past, 40% of the new model televisions have been successful, and 60% have been unsuccessful. Before introducing the new model television, the marketing research department conducts an extensive study and releases a report, either favorble or unfavorable.\n",
    "\n",
    "In the past, 80% of the successful new-model televisions had received favorable market reports, and 30% of the unsuccessful new-model televisions had received favorable reports. For the new model of television under consideration, the marketing research department has issued a favorable report.\n",
    "\n",
    "**What is the probability that the television is successful given a favorable report?**"
   ]
  },
  {
   "cell_type": "markdown",
   "metadata": {},
   "source": [
    "Let the following events be represented as follows:\n",
    "* S  denote the successful television\n",
    "* US denote the unsuccessful television\n",
    "* F  denote the favorable report\n",
    "* UF denote the unfavorable television\n",
    " \n",
    " The equation (Bayes' Theorem ) for this problem is:"
   ]
  },
  {
   "cell_type": "markdown",
   "metadata": {},
   "source": [
    "$P(S\\mid F)$ = $\\frac{P(F\\mid S)P(S)}{P(F\\mid S)P(S)) + P(F\\mid US)P(US))}$"
   ]
  },
  {
   "cell_type": "markdown",
   "metadata": {},
   "source": [
    "**Prior Probability** - - Revealed by data in the past\n",
    "* P(S)  = 0.40\n",
    "* P(US) = 0.60"
   ]
  },
  {
   "cell_type": "markdown",
   "metadata": {},
   "source": [
    "**Conditional Probability**\n",
    "\n",
    "* $P(F\\mid S)$   = 0.80    ** Favorable Report received when the new model is successful**\n",
    "* $P(F\\mid US)$  = 0.20    ** Favorable Report received when the new model is unsuccessful**"
   ]
  },
  {
   "cell_type": "markdown",
   "metadata": {},
   "source": [
    "Using the equation given above,\n",
    "\n",
    "$P(S\\mid F)$ = $\\frac{P(F\\mid S)P(S)}{P(F\\mid S)P(S)) + P(F\\mid US)P(US))}$"
   ]
  },
  {
   "cell_type": "markdown",
   "metadata": {},
   "source": [
    "$P(S\\mid F)$ = $\\frac{(0.80) (0.40)}{(0.80)(0.40) + (0.30)(0.60)}$"
   ]
  },
  {
   "cell_type": "code",
   "execution_count": 17,
   "metadata": {},
   "outputs": [
    {
     "name": "stdout",
     "output_type": "stream",
     "text": [
      "The probability that the television is successful given a favorable report is 0.6400\n"
     ]
    }
   ],
   "source": [
    "# Let P = P(S∣F)\n",
    "P = (0.80 * 0.40)/ ((0.80 * 0.40) + (0.30 * 0.60))\n",
    "print('The probability that the television is successful given a favorable report is %1.4f' % P) "
   ]
  },
  {
   "cell_type": "markdown",
   "metadata": {},
   "source": [
    "## Binomial and normal distribution"
   ]
  },
  {
   "cell_type": "markdown",
   "metadata": {},
   "source": [
    "* It is widely used probability distribution of a discrete random variable. \n",
    "* Plays major role in quality control and quality assurance function. "
   ]
  },
  {
   "cell_type": "markdown",
   "metadata": {},
   "source": [
    "$P(X = x\\mid n,\\pi)$ = $\\frac{n!}{x!(n - x)!}\\pi^x (1 - \\pi)^{n-x} $\n",
    "* where P(X = x) is the probability of getting x successes in n trials\n",
    "and $\\pi$ is the probability of an event of interest"
   ]
  },
  {
   "cell_type": "markdown",
   "metadata": {},
   "source": [
    "### Some important functions in Python for Binomial distribution:\n",
    "\n",
    "#### 1) Probability mass function\n",
    "\n",
    "##### scipy.stats.binom.pmf gives the probability mass function for the binomial distribution\n",
    "\n",
    "binomial = scipy.stats.binom.pmf (k,n,p), \n",
    "* where k is an array and takes values in {0, 1,..., n}\n",
    "* n and p are shape parameters for the binomial distribution\n",
    "\n",
    "The output, binomial, gives probability of binomial distribution function in terms of array.\n",
    "\n",
    "#### 2) Cumulative Density function\n",
    "\n",
    "cumbinomial = scipy.stats.binom.cdf(k,n,p) gives cumulative binomial distribution.\n",
    "\n",
    "The output, cumbinomial, gives cumulative probability of binomial distribution function in terms of array."
   ]
  },
  {
   "cell_type": "markdown",
   "metadata": {},
   "source": [
    "####  3)  Plot the binomial Density function\n",
    "\n",
    "The function, matplotlib.pyplot.plot(k, binomial, ‘o-’) gives us plot of the binomial distribution function."
   ]
  },
  {
   "cell_type": "markdown",
   "metadata": {},
   "source": [
    "### Example 1"
   ]
  },
  {
   "cell_type": "markdown",
   "metadata": {},
   "source": [
    "A LED bulb manufacturing company regularly conducts quality checks at specified periods on the products it manufactures.\n",
    "Historically, the failure rate for LED light bulbs that the company manufactures is 5%. Suppose a random sample of 10 LED light bulbs is selected.\n",
    "What is the probability that \n",
    "* a) None of the LED bulbs are defective?\n",
    "* b) Exactly one of the LED bulbs is defective?\n",
    "* c) Two or fewer of the LED bulbs are defective?\n",
    "* d) Three or more of the LED bulbs are defective"
   ]
  },
  {
   "cell_type": "code",
   "execution_count": 2,
   "metadata": {
    "collapsed": true
   },
   "outputs": [],
   "source": [
    "import numpy             as np\n",
    "import pandas            as pd\n",
    "import scipy.stats       as stats\n",
    "import matplotlib.pyplot as plt"
   ]
  },
  {
   "cell_type": "code",
   "execution_count": 2,
   "metadata": {
    "collapsed": true
   },
   "outputs": [],
   "source": [
    "p   =  0.05 # failure rate for LED light bulbs that the company manufactures is 5%\n",
    "n   =  10 # sample size\n",
    "k   =  np.arange(0,11) # An array of quantiles"
   ]
  },
  {
   "cell_type": "code",
   "execution_count": 3,
   "metadata": {
    "collapsed": true
   },
   "outputs": [],
   "source": [
    "binomial = stats.binom.pmf(k,n,p)"
   ]
  },
  {
   "cell_type": "code",
   "execution_count": 4,
   "metadata": {
    "scrolled": true
   },
   "outputs": [
    {
     "name": "stdout",
     "output_type": "stream",
     "text": [
      "[  5.98736939e-01   3.15124705e-01   7.46347985e-02   1.04750594e-02\n",
      "   9.64808106e-04   6.09352488e-05   2.67259863e-06   8.03789063e-08\n",
      "   1.58642578e-09   1.85546875e-11   9.76562500e-14]\n"
     ]
    }
   ],
   "source": [
    "print(binomial)"
   ]
  },
  {
   "cell_type": "code",
   "execution_count": 5,
   "metadata": {},
   "outputs": [
    {
     "name": "stdout",
     "output_type": "stream",
     "text": [
      "a) None of the LED bulbs are defective? is 0.5987\n"
     ]
    }
   ],
   "source": [
    "print('a) None of the LED bulbs are defective? is %1.4f' %binomial[0])"
   ]
  },
  {
   "cell_type": "code",
   "execution_count": 6,
   "metadata": {},
   "outputs": [
    {
     "name": "stdout",
     "output_type": "stream",
     "text": [
      "b) Exactly one of the LED bulbs is defective? is 0.3151\n"
     ]
    }
   ],
   "source": [
    "print('b) Exactly one of the LED bulbs is defective? is %1.4f' %binomial[1])"
   ]
  },
  {
   "cell_type": "markdown",
   "metadata": {},
   "source": [
    "To answer the question c) Two or fewer of the LED bulbs are defective?\n",
    "we need to calculate cumulative probability of Upto Two LED bulbs being defective"
   ]
  },
  {
   "cell_type": "code",
   "execution_count": 7,
   "metadata": {
    "collapsed": true
   },
   "outputs": [],
   "source": [
    "cumbinomial = stats.binom.cdf(k,n,p)"
   ]
  },
  {
   "cell_type": "code",
   "execution_count": 8,
   "metadata": {},
   "outputs": [
    {
     "name": "stdout",
     "output_type": "stream",
     "text": [
      "[ 0.59873694  0.91386164  0.98849644  0.9989715   0.99993631  0.99999725\n",
      "  0.99999992  1.          1.          1.          1.        ]\n"
     ]
    }
   ],
   "source": [
    "print(cumbinomial)"
   ]
  },
  {
   "cell_type": "code",
   "execution_count": 9,
   "metadata": {},
   "outputs": [
    {
     "name": "stdout",
     "output_type": "stream",
     "text": [
      "c) Two or fewer of the LED bulbs are defective? is 0.9885\n"
     ]
    }
   ],
   "source": [
    "print('c) Two or fewer of the LED bulbs are defective? is %1.4f' %cumbinomial[2])"
   ]
  },
  {
   "cell_type": "markdown",
   "metadata": {},
   "source": [
    "#### To answer the question d) Three or more of the LED bulbs are defective, we need to subtract cumulative Probability upto 2 defective LED bulbs from 1."
   ]
  },
  {
   "cell_type": "code",
   "execution_count": 10,
   "metadata": {},
   "outputs": [
    {
     "name": "stdout",
     "output_type": "stream",
     "text": [
      "d) Three or more of the LED bulbs are defective is 0.0115\n"
     ]
    }
   ],
   "source": [
    "P = 1- cumbinomial[2]\n",
    "print('d) Three or more of the LED bulbs are defective is %1.4f' % P)"
   ]
  },
  {
   "cell_type": "markdown",
   "metadata": {},
   "source": [
    "### Plot the binomial distribution function"
   ]
  },
  {
   "cell_type": "code",
   "execution_count": 11,
   "metadata": {},
   "outputs": [
    {
     "data": {
      "image/png": "[encoded data removed]",
      "text/plain": [
       "<matplotlib.figure.Figure at 0x20bddb02d30>"
      ]
     },
     "metadata": {},
     "output_type": "display_data"
    }
   ],
   "source": [
    "plt.plot(k,binomial, 'o-')\n",
    "plt.title('Binomial')\n",
    "plt.xlabel('Number of Def LED bulbs')\n",
    "plt.ylabel('Prob of Defective LED bulbs')\n",
    "plt.show()"
   ]
  },
  {
   "cell_type": "markdown",
   "metadata": {},
   "source": [
    "### Example 2"
   ]
  },
  {
   "cell_type": "markdown",
   "metadata": {},
   "source": [
    "The percentage of orders filled correctly at Wendy's was approximately 86.8%. Suppose that you go to drive-through window at Wendy's and place an order. Two friends of yours independently place orders at the drive-through window at the same Wendy's.\n",
    "\n",
    "What are the probabilities that \n",
    "* a) all three \n",
    "* b) none of the three\n",
    "* c) atleast two of the three orders will be filled correctly?\n",
    "* d) what is the mean and standard deviation of the orders filled correctly?"
   ]
  },
  {
   "cell_type": "code",
   "execution_count": 12,
   "metadata": {
    "collapsed": true
   },
   "outputs": [],
   "source": [
    "p   =  0.868 # percentage of orders filled correctly at Wendy's was approximately 86.8%\n",
    "n   =  3\n",
    "k   =  np.arange(0,4)"
   ]
  },
  {
   "cell_type": "code",
   "execution_count": 13,
   "metadata": {
    "collapsed": true
   },
   "outputs": [],
   "source": [
    "binomial = stats.binom.pmf(k,n,p)"
   ]
  },
  {
   "cell_type": "code",
   "execution_count": 14,
   "metadata": {},
   "outputs": [
    {
     "name": "stdout",
     "output_type": "stream",
     "text": [
      "[ 0.00229997  0.0453721   0.2983559   0.65397203]\n"
     ]
    }
   ],
   "source": [
    "print(binomial)"
   ]
  },
  {
   "cell_type": "code",
   "execution_count": 15,
   "metadata": {},
   "outputs": [
    {
     "name": "stdout",
     "output_type": "stream",
     "text": [
      "a) all the three orders are filled correctly? is 0.6540\n"
     ]
    }
   ],
   "source": [
    "print('a) all the three orders are filled correctly? is %1.4f' %binomial[3])"
   ]
  },
  {
   "cell_type": "code",
   "execution_count": 16,
   "metadata": {},
   "outputs": [
    {
     "name": "stdout",
     "output_type": "stream",
     "text": [
      "b) none of the three orders are filled correctly? is 0.0023\n"
     ]
    }
   ],
   "source": [
    "print('b) none of the three orders are filled correctly? is %1.4f' %binomial[0])"
   ]
  },
  {
   "cell_type": "markdown",
   "metadata": {},
   "source": [
    "To answer this question c) atleast two of the three orders are filled correctly, \n",
    "we need to find out 1 - Probability of upto 1 failure"
   ]
  },
  {
   "cell_type": "code",
   "execution_count": 17,
   "metadata": {
    "collapsed": true
   },
   "outputs": [],
   "source": [
    "cumbinomial = stats.binom.cdf(k,n,p)"
   ]
  },
  {
   "cell_type": "code",
   "execution_count": 18,
   "metadata": {},
   "outputs": [
    {
     "name": "stdout",
     "output_type": "stream",
     "text": [
      "[ 0.00229997  0.04767206  0.34602797  1.        ]\n"
     ]
    }
   ],
   "source": [
    "print(cumbinomial)"
   ]
  },
  {
   "cell_type": "code",
   "execution_count": 19,
   "metadata": {},
   "outputs": [
    {
     "name": "stdout",
     "output_type": "stream",
     "text": [
      "c) atleast two of the three orders are filled correctly? is 0.9523\n"
     ]
    }
   ],
   "source": [
    "P = 1 - cumbinomial[1]\n",
    "print('c) atleast two of the three orders are filled correctly? is %1.4f' % P)"
   ]
  },
  {
   "cell_type": "code",
   "execution_count": 20,
   "metadata": {},
   "outputs": [
    {
     "name": "stdout",
     "output_type": "stream",
     "text": [
      "mean and standard deviation of the orders filled correctly are 2.6040 and  0.5863 respectively\n"
     ]
    }
   ],
   "source": [
    "# d) what is the mean and standard deviation of the orders filled correctly?\n",
    "p    = 0.868\n",
    "n    = 3\n",
    "mean = n* p # = 3 * 0.868\n",
    "sd   = np.sqrt(n * p * (1 - p))\n",
    "print('mean and standard deviation of the orders filled correctly are %1.4f and  %1.4f respectively' % (mean, sd))"
   ]
  },
  {
   "cell_type": "markdown",
   "metadata": {},
   "source": [
    "### Plot  the binomial distribution function"
   ]
  },
  {
   "cell_type": "code",
   "execution_count": 21,
   "metadata": {},
   "outputs": [
    {
     "data": {
      "image/png": "[encoded data removed]",
      "text/plain": [
       "<matplotlib.figure.Figure at 0x20bde01b898>"
      ]
     },
     "metadata": {},
     "output_type": "display_data"
    }
   ],
   "source": [
    "plt.plot(k,binomial, 'o-')\n",
    "plt.title('Binomial')\n",
    "plt.xlabel('Number of Orders filled correctly')\n",
    "plt.ylabel('Prob of Orders filled correctly')\n",
    "plt.show()"
   ]
  },
  {
   "cell_type": "markdown",
   "metadata": {},
   "source": [
    "### Normal Distribution"
   ]
  },
  {
   "cell_type": "markdown",
   "metadata": {},
   "source": [
    "* One of the most popular continuous distribution in Analytics field.\n",
    "* Normal distribution is observed across many naturally occurring measures such as birth weight, height and intelligence etc"
   ]
  },
  {
   "cell_type": "markdown",
   "metadata": {},
   "source": [
    "#### Probability Density Function"
   ]
  },
  {
   "cell_type": "markdown",
   "metadata": {},
   "source": [
    "f(x) = $\\frac {1}{\\sigma\\sqrt(2 \\pi)} e^\\frac {-(x-\\mu^2)}{2\\sigma^2}$"
   ]
  },
  {
   "cell_type": "markdown",
   "metadata": {},
   "source": [
    "Where\n",
    "* f(x) is used to represent a probability density function\n",
    "* x is any value of the continuous variable, where -∞ < x < ∞\n",
    "* e denotes the mathematical constant approximated by 2.71828\n",
    "* Π is a mathematical constant approximated by 3.14159\n",
    "* μ and σ are the mean and standard deviation of the normal distribution\n"
   ]
  },
  {
   "cell_type": "markdown",
   "metadata": {},
   "source": [
    "For a continuous function, the probability density function is the probability that the value has the value x. \n",
    "Since for continuous distributions the probability at a single point is zero, this is expressed in terms of an integral of its probability density function\n",
    "P(X<= x) = F(x) = \n",
    "$\\int_{-\\infty}^xf(t)dt$\n"
   ]
  },
  {
   "cell_type": "markdown",
   "metadata": {},
   "source": [
    "Standardize normal variable\n",
    "Compute Z by subtracting the mean, mu from a normally distributed variable, divide by the standard deviation, sigma.\n",
    "Z = (X - μ) / σ \n",
    "Z is in standard units. \n",
    "Z ~ N(0,1) and the variable, Z always has mean 0 and standard deviation 1"
   ]
  },
  {
   "cell_type": "markdown",
   "metadata": {},
   "source": [
    "Its pdf is given by\n",
    "\n",
    "fZ(z) = $\\frac{1}{ √2Π} {exp \\frac {-z2} {2}}$\n",
    "\n",
    "for all z $\\in R$\n",
    "\n",
    "The (1 / √2Π ) is there to make sure that the area under the PDF is 1."
   ]
  },
  {
   "cell_type": "markdown",
   "metadata": {},
   "source": [
    "* For a normal distribution, mu is the location parameter, which locates (centre) the distribution on the horizontal axis.\n",
    "* Sigma is the scale parameter, which defines the spread of the normal distribution.\n",
    "* Normal distribution has no shape parameter since all the normal distribution curves have bell shape and are symmetrical. \n"
   ]
  },
  {
   "cell_type": "markdown",
   "metadata": {},
   "source": [
    "### Properties\n",
    "1. Theoretical normal density functions are defined between -∞ and ∞\n",
    "2. There are two parameters, location (μ which is the mean) and scale (σ which is standard deviation).\n",
    "3. It has a symmetrical (bell shape) around the mean. mean = median = mode\n",
    "4. Areas between specific values are measured in terms of μ and σ\n",
    "5. Any linear transformation if a normal random variable is also normal random variable.\n",
    "6. If X1 is an independent normal random variable with mean μ1 and variance $\\sigma1^2$ and \n",
    "      X2 is another independent normal random variable with mean μ2 and$\\sigma2^2$, \n",
    "then X1 + X2 is also a normal distribution with mean μ1 + μ2 and variance $\\sigma1^2$ + $\\sigma2^2$ "
   ]
  },
  {
   "cell_type": "markdown",
   "metadata": {},
   "source": [
    "| Value of the random variable | Area under the normal distribution (CDF) |\n",
    "| --------------------------------- | --------------------------|\n",
    "| $\\mu - \\sigma \\leq x \\leq \\mu + \\sigma$ | 0.6828 |\n",
    "| $\\mu - 2\\sigma \\leq x \\leq \\mu + 2\\sigma$ | 0.9545 |\n",
    "| $\\mu - 3\\sigma \\leq x \\leq \\mu + 3\\sigma$ | 0.9974 |"
   ]
  },
  {
   "cell_type": "markdown",
   "metadata": {},
   "source": [
    "### Some important functions in python for solving Normal Distribution problems\n",
    "\n",
    "#### 1. Cumulative Density Function (cdf)\n",
    "\n",
    "1. scipy.stats.norm.cdf(z)                 # Here z is an attribute\n",
    "\n",
    "2. stats.norm.cdf(z2) – stats.norm.cdf(z1) # Here z is an attribute\n",
    "\n",
    "3. stats.norm.isf(0.99) # Inverse Survival function gives the value given a probability"
   ]
  },
  {
   "cell_type": "markdown",
   "metadata": {},
   "source": [
    "### Example 5"
   ]
  },
  {
   "cell_type": "markdown",
   "metadata": {},
   "source": [
    "A survey on use of smart phones in India was conducted and it is observed the smart phone users spend 68 minutes in a day on average in sending messages and the corresponding standard deviation is 12 minutes. \n",
    "\n",
    "* Assume that the time spent in sending messages follows a normal distribution. \n",
    "* a) What proportion of the smart phone users are spending more than 90 minutes in sending messages daily?\n",
    "* b) What proportion of customers are spending less than 20 minutes?\n",
    "* c) What proportion of customers are spending between 50 minutes and 100 minutes?"
   ]
  },
  {
   "cell_type": "code",
   "execution_count": 32,
   "metadata": {
    "collapsed": true
   },
   "outputs": [],
   "source": [
    "mu    = 68 # minutes \n",
    "sigma = 12"
   ]
  },
  {
   "cell_type": "markdown",
   "metadata": {},
   "source": [
    "### Compute Z by subtracting the mean, mu from a normally distributed variable, divide by the standard deviation, sigma"
   ]
  },
  {
   "cell_type": "code",
   "execution_count": 33,
   "metadata": {},
   "outputs": [
    {
     "name": "stdout",
     "output_type": "stream",
     "text": [
      " a. Proportion of the smart phone users are spending more than 90 minutes in sending messages daily is 0.0334\n"
     ]
    }
   ],
   "source": [
    "# a. What proportion of the smart phone users are spending more than 90 minutes in sending messages daily?\n",
    "z  = (90 - mu) / sigma # X = 90\n",
    "P  = 1 - stats.norm.cdf(z)\n",
    "print(' a. Proportion of the smart phone users are spending more than 90 minutes in sending messages daily is %1.4f' % P)"
   ]
  },
  {
   "cell_type": "code",
   "execution_count": 34,
   "metadata": {},
   "outputs": [
    {
     "name": "stdout",
     "output_type": "stream",
     "text": [
      " b) What proportion of customers are spending less than 20 minutes is 0.0000317\n"
     ]
    }
   ],
   "source": [
    "# b) What proportion of customers are spending less than 20 minutes?\n",
    "z1  =  (20 - mu) / sigma # X = 20\n",
    "P   =  stats.norm.cdf(z1)\n",
    "print(' b) What proportion of customers are spending less than 20 minutes is %1.7f' % P)\n"
   ]
  },
  {
   "cell_type": "code",
   "execution_count": 35,
   "metadata": {},
   "outputs": [
    {
     "name": "stdout",
     "output_type": "stream",
     "text": [
      " c) proportion of customers are spending between 50 minutes and 100 minutes is 0.9294\n"
     ]
    }
   ],
   "source": [
    "# c) What proportion of customers are spending between 50 minutes and 100 minutes?\n",
    "z1  =  (50 - mu) / sigma   # X = 50\n",
    "z2  =  (100 - mu) / sigma  # X = 100\n",
    "P1   =  stats.norm.cdf(z1)\n",
    "P2   =  stats.norm.cdf(z2)\n",
    "P    =  P2 - P1\n",
    "print(' c) proportion of customers are spending between 50 minutes and 100 minutes is %1.4f' % P)"
   ]
  },
  {
   "cell_type": "markdown",
   "metadata": {},
   "source": [
    "### Example 6"
   ]
  },
  {
   "cell_type": "markdown",
   "metadata": {},
   "source": [
    "The mean salaries of Data Scientists working in Chennai, India is calculated to be 7,00,000 INR with a standard deviation of 90,000 INR. The random variable salary of Data Scientists follows a normal distribution.\n",
    "\n",
    "* a) What is the probability that a Data Scientist in Chennai has a salary more than 10,00,000 INR?\n",
    "* b) What is the probability that a Data Scientist in Chennai has a salary between 6,00,000 & 9,00,000 INR?\n",
    "* c) What is the probability that a Data Scientist in Chennai has a salary less than 4,00,000 INR?"
   ]
  },
  {
   "cell_type": "code",
   "execution_count": 36,
   "metadata": {
    "collapsed": true
   },
   "outputs": [],
   "source": [
    "# a) What is the probability that a Data Scientist in Chennai has a salary more than 10,00,000 INR?\n",
    "mu    =  700000\n",
    "sigma =  90000\n",
    "z=(1000000-mu) / sigma "
   ]
  },
  {
   "cell_type": "code",
   "execution_count": 37,
   "metadata": {},
   "outputs": [
    {
     "name": "stdout",
     "output_type": "stream",
     "text": [
      " a) Probability that a Data Scientist in Chennai has a salary more than 10,00,000 is 0.0004\n"
     ]
    }
   ],
   "source": [
    "P = 1 - stats.norm.cdf(z)\n",
    "print(' a) Probability that a Data Scientist in Chennai has a salary more than 10,00,000 is %1.4f' % P)"
   ]
  },
  {
   "cell_type": "code",
   "execution_count": 38,
   "metadata": {
    "collapsed": true
   },
   "outputs": [],
   "source": [
    "# b) What is the probability that a Data Scientist in Chennai has a salary between 6,00,000 & 9,00,000 INR?\n",
    "z1= (600000-mu) / sigma\n",
    "z2= (900000-mu) / sigma"
   ]
  },
  {
   "cell_type": "code",
   "execution_count": 39,
   "metadata": {},
   "outputs": [
    {
     "name": "stdout",
     "output_type": "stream",
     "text": [
      " b) probability that a Data Scientist in Chennai has a salary between 6,00,000 & 9,00,000 INR is 0.8536\n"
     ]
    }
   ],
   "source": [
    "P = stats.norm.cdf(z2) - stats.norm.cdf(z1)\n",
    "print(' b) probability that a Data Scientist in Chennai has a salary between 6,00,000 & 9,00,000 INR is %1.4f' % P)"
   ]
  },
  {
   "cell_type": "code",
   "execution_count": 40,
   "metadata": {
    "collapsed": true
   },
   "outputs": [],
   "source": [
    "# c) What is the probability that a Data Scientist in Chennai has a salary less than 4,00,000 INR?\n",
    "z = (400000-mu) / sigma "
   ]
  },
  {
   "cell_type": "code",
   "execution_count": 41,
   "metadata": {},
   "outputs": [
    {
     "name": "stdout",
     "output_type": "stream",
     "text": [
      " c) Probability that a Data Scientist in Chennai has a salary less than 4,00,000 INR is 0.0004\n"
     ]
    }
   ],
   "source": [
    "P = stats.norm.cdf(z)\n",
    "print(' c) Probability that a Data Scientist in Chennai has a salary less than 4,00,000 INR is %1.4f' % P)"
   ]
  }
 ],
 "metadata": {
  "kernelspec": {
   "display_name": "Python 3",
   "language": "python",
   "name": "python3"
  },
  "language_info": {
   "codemirror_mode": {
    "name": "ipython",
    "version": 3
   },
   "file_extension": ".py",
   "mimetype": "text/x-python",
   "name": "python",
   "nbconvert_exporter": "python",
   "pygments_lexer": "ipython3",
   "version": "3.7.0"
  }
 },
 "nbformat": 4,
 "nbformat_minor": 2
}
