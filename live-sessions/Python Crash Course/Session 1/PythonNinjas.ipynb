{
 "cells": [
  {
   "cell_type": "code",
   "execution_count": 1,
   "metadata": {},
   "outputs": [
    {
     "name": "stdout",
     "output_type": "stream",
     "text": [
      "Hello! Team! Welcome to Mastering Python Series\n"
     ]
    }
   ],
   "source": [
    "print(\"Hello! Team! Welcome to Mastering Python Series\")"
   ]
  },
  {
   "cell_type": "code",
   "execution_count": 2,
   "metadata": {},
   "outputs": [
    {
     "name": "stdout",
     "output_type": "stream",
     "text": [
      "Welcome to Python\n",
      "This is another line\n"
     ]
    }
   ],
   "source": [
    "print(\"Welcome to Python\")\n",
    "print(\"This is another line\")"
   ]
  },
  {
   "cell_type": "code",
   "execution_count": 3,
   "metadata": {},
   "outputs": [],
   "source": [
    "# This is how we create/write comments\n",
    "# Lets talk about some basic variables here..."
   ]
  },
  {
   "cell_type": "code",
   "execution_count": 5,
   "metadata": {},
   "outputs": [
    {
     "name": "stdout",
     "output_type": "stream",
     "text": [
      "Hi sheldon cooper you live in passadina\n"
     ]
    }
   ],
   "source": [
    "name=\"sheldon cooper\"\n",
    "city='passadina'\n",
    "age=27\n",
    "print(\"Hi \"+name +\" you live in \"+city) # this is concatenation."
   ]
  },
  {
   "cell_type": "code",
   "execution_count": 6,
   "metadata": {},
   "outputs": [
    {
     "name": "stdout",
     "output_type": "stream",
     "text": [
      "Hi!  sheldon cooper  you stay at  passadina  and grown to  27\n"
     ]
    }
   ],
   "source": [
    "print(\"Hi! \",name,\" you stay at \",city ,\" and grown to \",age)"
   ]
  },
  {
   "cell_type": "code",
   "execution_count": null,
   "metadata": {},
   "outputs": [],
   "source": [
    "#Basic Math in Python"
   ]
  },
  {
   "cell_type": "code",
   "execution_count": 8,
   "metadata": {},
   "outputs": [
    {
     "name": "stdout",
     "output_type": "stream",
     "text": [
      "12\n",
      "5.0\n",
      "20\n",
      "100\n"
     ]
    }
   ],
   "source": [
    "a=10\n",
    "b=2\n",
    "print(a+b)\n",
    "print(a/b)\n",
    "print(a*b)\n",
    "print(a**b)"
   ]
  },
  {
   "cell_type": "code",
   "execution_count": 10,
   "metadata": {},
   "outputs": [
    {
     "name": "stdout",
     "output_type": "stream",
     "text": [
      "penny and leonard are Friends\n",
      "<class 'str'>\n"
     ]
    }
   ],
   "source": [
    "# Python way of merging string\n",
    "\n",
    "friend1=\"penny\"\n",
    "friend2=\"leonard\"\n",
    "\n",
    "msg=\"{} and {} are Friends\".format(friend1,friend2)\n",
    "\n",
    "print(msg)\n",
    "\n",
    "# a quick tip!!  how to check datatype of variables\n",
    "\n",
    "print(type(msg))"
   ]
  },
  {
   "cell_type": "code",
   "execution_count": null,
   "metadata": {},
   "outputs": [],
   "source": [
    "# Accepting Input from User (lets make the  program interactive)"
   ]
  },
  {
   "cell_type": "code",
   "execution_count": 12,
   "metadata": {},
   "outputs": [
    {
     "name": "stdout",
     "output_type": "stream",
     "text": [
      "Enter Your Name Buddy!!Rajesh\n",
      "Hey!  Rajesh  how you Doin...\n"
     ]
    }
   ],
   "source": [
    "name = input(\"Enter Your Name Buddy!!\") # Observ the expression how u rcv the input.\n",
    "print(\"Hey! \",name, \" how you Doin...\")"
   ]
  },
  {
   "cell_type": "code",
   "execution_count": 14,
   "metadata": {},
   "outputs": [
    {
     "name": "stdout",
     "output_type": "stream",
     "text": [
      "Hey! gime a  nice no5\n",
      "<class 'int'>\n"
     ]
    }
   ],
   "source": [
    "# Accept integer inputs here..\n",
    "\n",
    "some_value=int(input(\"Hey! gime a  nice no\"))\n",
    "print(type(some_value))\n"
   ]
  },
  {
   "cell_type": "code",
   "execution_count": 17,
   "metadata": {},
   "outputs": [
    {
     "name": "stdout",
     "output_type": "stream",
     "text": [
      "Hey! Enter Mass Here...\n",
      "12.5\n",
      "I Need Acceleration Also..\n",
      "3.5\n",
      "Hey!! I Got the Force Here... 43.75\n"
     ]
    }
   ],
   "source": [
    "# Lets Accept Mass and Acceleration and Display Force\n",
    "# Force = Mass * Acceleration.\n",
    "\n",
    "mass = float(input(\"Hey! Enter Mass Here...\\n\"))\n",
    "acc = float(input(\"I Need Acceleration Also..\\n\"))\n",
    "\n",
    "magic = mass*acc\n",
    "\n",
    "print(\"Hey!! I Got the Force Here...\",magic)"
   ]
  },
  {
   "cell_type": "code",
   "execution_count": 18,
   "metadata": {},
   "outputs": [
    {
     "name": "stdout",
     "output_type": "stream",
     "text": [
      "True\n"
     ]
    }
   ],
   "source": [
    "# In case if you are working with decimal values\n",
    "mass=12.2\n",
    "type(mass)\n",
    "\n",
    "# Sample of Boolean\n",
    "\n",
    "is_Student=True # True/False\n",
    "print(is_Student)"
   ]
  },
  {
   "cell_type": "code",
   "execution_count": null,
   "metadata": {},
   "outputs": [],
   "source": [
    "# String Manipulation"
   ]
  },
  {
   "cell_type": "code",
   "execution_count": 19,
   "metadata": {},
   "outputs": [],
   "source": [
    "msg=\"Python is COOL\""
   ]
  },
  {
   "cell_type": "code",
   "execution_count": 20,
   "metadata": {},
   "outputs": [
    {
     "name": "stdout",
     "output_type": "stream",
     "text": [
      "Python is COOL\n",
      "P\n",
      "Pyth\n",
      "thon is COOL\n",
      "thon\n",
      "L\n",
      "Python is COOLPython is COOL\n"
     ]
    }
   ],
   "source": [
    "#Please assume string as an Arrray of Characters where index starts from ZERO\n",
    "# STRING SLICING.\n",
    "print(msg)  # Python is COOL\n",
    "print(msg[0]) # msg[index] at 0 index we have 'p'\n",
    "print(msg[:4]) # <- msg[default from 0 : n-1]   (index)  pyth\n",
    "print(msg[2:])  # <- msg[starts from index 2 : length-1 (end)]\n",
    "print(msg[2:6])  #<- msg[starts from 2 : 6-1](index)\n",
    "print(msg[-1])  #<- Python is versatile \n",
    "                    #using -(minus) index u can access value in reverse\n",
    "                    # -1 means last character \n",
    "                    # -2 means second last and so on..\n",
    "print(msg*2)       # prints twice."
   ]
  },
  {
   "cell_type": "code",
   "execution_count": null,
   "metadata": {},
   "outputs": [],
   "source": []
  },
  {
   "cell_type": "code",
   "execution_count": null,
   "metadata": {},
   "outputs": [],
   "source": []
  },
  {
   "cell_type": "code",
   "execution_count": null,
   "metadata": {},
   "outputs": [],
   "source": []
  }
 ],
 "metadata": {
  "kernelspec": {
   "display_name": "Python 3",
   "language": "python",
   "name": "python3"
  },
  "language_info": {
   "codemirror_mode": {
    "name": "ipython",
    "version": 3
   },
   "file_extension": ".py",
   "mimetype": "text/x-python",
   "name": "python",
   "nbconvert_exporter": "python",
   "pygments_lexer": "ipython3",
   "version": "3.6.5"
  }
 },
 "nbformat": 4,
 "nbformat_minor": 2
}
