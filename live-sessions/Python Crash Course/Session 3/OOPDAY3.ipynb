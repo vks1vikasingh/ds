{
 "cells": [
  {
   "cell_type": "code",
   "execution_count": 1,
   "metadata": {},
   "outputs": [],
   "source": [
    "#Conditional Statement in Python"
   ]
  },
  {
   "cell_type": "code",
   "execution_count": 2,
   "metadata": {},
   "outputs": [],
   "source": [
    "day=\"sunday\""
   ]
  },
  {
   "cell_type": "code",
   "execution_count": 5,
   "metadata": {},
   "outputs": [
    {
     "name": "stdout",
     "output_type": "stream",
     "text": [
      "Lets HoliDay\n"
     ]
    }
   ],
   "source": [
    "if day==\"sunday\":\n",
    "    print(\"Lets HoliDay\")\n",
    "else:\n",
    "    print(\"No Holiday\")"
   ]
  },
  {
   "cell_type": "code",
   "execution_count": 6,
   "metadata": {},
   "outputs": [],
   "source": [
    "#Checking Multiple Conditions in Python (more then one cond..)"
   ]
  },
  {
   "cell_type": "code",
   "execution_count": 7,
   "metadata": {},
   "outputs": [],
   "source": [
    "# A Boy Enters a Number and the system shows the Corresponding division\n",
    "# input :1 -> First Division .......\n"
   ]
  },
  {
   "cell_type": "code",
   "execution_count": 8,
   "metadata": {},
   "outputs": [
    {
     "name": "stdout",
     "output_type": "stream",
     "text": [
      "Hey! Buddy! Enter your Rank\n",
      "2\n",
      "Second Division\n"
     ]
    }
   ],
   "source": [
    "div =int(input(\"Hey! Buddy! Enter your Rank\\n\"))\n",
    "if div==1:  and div>1 #False Logical and Or Not\n",
    "    print(\"First Division\")\n",
    "elif div==2:# True\n",
    "    print(\"Second Division\")\n",
    "elif div==3:\n",
    "    print(\"Third Division\")\n",
    "else:# Executes when all elif and if are false\n",
    "    print(\"No Division\")"
   ]
  },
  {
   "cell_type": "code",
   "execution_count": null,
   "metadata": {},
   "outputs": [],
   "source": [
    "# Functions in Python , Block of  Code aimed for X objective.\n",
    "def Msg():\n",
    "    print(\"Python!!! is Awesome Lets Code\")"
   ]
  },
  {
   "cell_type": "code",
   "execution_count": null,
   "metadata": {},
   "outputs": [],
   "source": [
    "#Benefits of Functions\n",
    "# Code Management \n",
    "    #Reducing the Code complexity\n",
    "    #Enhancing Code Readability\n",
    "    #Increasing Code Reusability \n",
    "    #Code Distribution(Modularity)"
   ]
  },
  {
   "cell_type": "code",
   "execution_count": 9,
   "metadata": {},
   "outputs": [],
   "source": [
    "#Syntax of Function\n",
    "def magic():\n",
    "    print(\"HI! I am a Function\")"
   ]
  },
  {
   "cell_type": "code",
   "execution_count": 10,
   "metadata": {},
   "outputs": [
    {
     "name": "stdout",
     "output_type": "stream",
     "text": [
      "HI! I am a Function\n"
     ]
    }
   ],
   "source": [
    "magic() # SyntaxSyntaxSyntaxSyntaxSyntaxSyntaxSyntaxSyntax"
   ]
  },
  {
   "cell_type": "code",
   "execution_count": null,
   "metadata": {},
   "outputs": [],
   "source": [
    "#In Python a function may a return a value or may not \n",
    "# no change in function syntax."
   ]
  },
  {
   "cell_type": "code",
   "execution_count": null,
   "metadata": {},
   "outputs": [],
   "source": [
    "# Parameterised Function Type 1"
   ]
  },
  {
   "cell_type": "code",
   "execution_count": 14,
   "metadata": {},
   "outputs": [],
   "source": [
    "def sayHello(msg):# parameters are help ful to transfer\n",
    "    # values  to function from external sources..\n",
    "    print(\"Hey! You Said \"+msg)"
   ]
  },
  {
   "cell_type": "code",
   "execution_count": 12,
   "metadata": {},
   "outputs": [
    {
     "name": "stdout",
     "output_type": "stream",
     "text": [
      "Hey! You Said Hi! How are you\n"
     ]
    }
   ],
   "source": [
    "sayHello(\"Hi! How are you\") # argument."
   ]
  },
  {
   "cell_type": "code",
   "execution_count": 15,
   "metadata": {},
   "outputs": [],
   "source": [
    "# Return Type functions  Type 2"
   ]
  },
  {
   "cell_type": "code",
   "execution_count": 16,
   "metadata": {},
   "outputs": [],
   "source": [
    "# [\"Ramesh Kumar\",\"Mahesh Sharma\",\"Preeti Rani\"]\n",
    "# R.K \n",
    "# M.S\n",
    "# P.R"
   ]
  },
  {
   "cell_type": "code",
   "execution_count": 17,
   "metadata": {},
   "outputs": [],
   "source": [
    "# Return Type Functions "
   ]
  },
  {
   "cell_type": "code",
   "execution_count": 19,
   "metadata": {},
   "outputs": [
    {
     "name": "stdout",
     "output_type": "stream",
     "text": [
      "Square is  25\n"
     ]
    }
   ],
   "source": [
    " def getSquare(n):\n",
    "    return n*n\n",
    "\n",
    "result = getSquare(5)\n",
    "print(\"Square is \",result)"
   ]
  },
  {
   "cell_type": "code",
   "execution_count": 20,
   "metadata": {},
   "outputs": [],
   "source": [
    "# default Arguments"
   ]
  },
  {
   "cell_type": "code",
   "execution_count": 21,
   "metadata": {},
   "outputs": [],
   "source": [
    "def registerEmployee(name,salary,address=\"Not Available\"):\n",
    "    print(\"Name : {}\\n Salary: {}\\n Address: {}\\n\".format(name,salary,address))"
   ]
  },
  {
   "cell_type": "code",
   "execution_count": 22,
   "metadata": {},
   "outputs": [
    {
     "name": "stdout",
     "output_type": "stream",
     "text": [
      "Name : Tomy Lee\n",
      " Salary: 95000\n",
      " Address: Las Vegas\n",
      "\n"
     ]
    }
   ],
   "source": [
    "registerEmployee(\"Tomy Lee\",95000,\"Las Vegas\")"
   ]
  },
  {
   "cell_type": "code",
   "execution_count": 25,
   "metadata": {},
   "outputs": [
    {
     "name": "stdout",
     "output_type": "stream",
     "text": [
      "Name : Stan Lee\n",
      " Salary: 1\n",
      " Address: Not Available\n",
      "\n"
     ]
    }
   ],
   "source": [
    "registerEmployee(\"Stan Lee\",1) # Missing Addres"
   ]
  },
  {
   "cell_type": "code",
   "execution_count": 26,
   "metadata": {},
   "outputs": [],
   "source": [
    "# Lambda Expressions is also called anonymous method"
   ]
  },
  {
   "cell_type": "code",
   "execution_count": 27,
   "metadata": {},
   "outputs": [
    {
     "data": {
      "text/plain": [
       "'HEY I WAS LOWERCASE NOW M UPPERCASE'"
      ]
     },
     "execution_count": 27,
     "metadata": {},
     "output_type": "execute_result"
    }
   ],
   "source": [
    "up= lambda msg : msg.upper()\n",
    "\n",
    "up(\"hey i was lowercase now m uppercase\")"
   ]
  },
  {
   "cell_type": "code",
   "execution_count": 28,
   "metadata": {},
   "outputs": [
    {
     "data": {
      "text/plain": [
       "25"
      ]
     },
     "execution_count": 28,
     "metadata": {},
     "output_type": "execute_result"
    }
   ],
   "source": [
    "sqr = lambda n : n*n\n",
    "\n",
    "sqr(5)"
   ]
  },
  {
   "cell_type": "code",
   "execution_count": 29,
   "metadata": {},
   "outputs": [
    {
     "data": {
      "text/plain": [
       "7"
      ]
     },
     "execution_count": 29,
     "metadata": {},
     "output_type": "execute_result"
    }
   ],
   "source": [
    "add = lambda a,b : a+b\n",
    "add(2,5)"
   ]
  },
  {
   "cell_type": "code",
   "execution_count": 34,
   "metadata": {},
   "outputs": [
    {
     "name": "stdout",
     "output_type": "stream",
     "text": [
      "Square of 2 is 4 \n",
      "Square of 3 is 9 \n",
      "Square of 4 is 16 \n"
     ]
    }
   ],
   "source": [
    "#Lets getSquare of Some Numbers\n",
    "# if type(msg)==\"Class Str\"\n",
    "\n",
    "sqr= lambda n: n*n\n",
    "\n",
    "for x in range(2,10):\n",
    "    result=sqr(x)\n",
    "    if result==25:\n",
    "        break\n",
    "    print(\"Square of {} is {} \".format(x,result))\n"
   ]
  },
  {
   "cell_type": "code",
   "execution_count": null,
   "metadata": {},
   "outputs": [],
   "source": []
  },
  {
   "cell_type": "code",
   "execution_count": 38,
   "metadata": {},
   "outputs": [
    {
     "ename": "SyntaxError",
     "evalue": "invalid syntax (<ipython-input-38-0681a7b69042>, line 1)",
     "output_type": "error",
     "traceback": [
      "\u001b[1;36m  File \u001b[1;32m\"<ipython-input-38-0681a7b69042>\"\u001b[1;36m, line \u001b[1;32m1\u001b[0m\n\u001b[1;33m    1 class Dog:\u001b[0m\n\u001b[1;37m          ^\u001b[0m\n\u001b[1;31mSyntaxError\u001b[0m\u001b[1;31m:\u001b[0m invalid syntax\n"
     ]
    }
   ],
   "source": [
    "1 class Dog:\n",
    "    \n",
    "2    def __init__(self):\n",
    "3        print(\"Constructor in Python\")\n",
    "        \n",
    "4    def Bark(self):\n",
    "5        print(\"Woof Woof!! go Away!!! \")\n",
    "\n",
    "6 tommy = Dog() \n",
    "7 tommy.Bark() \n",
    "8   \n",
    "6 ->  2 - > 3 > 7 > 4 > 5 > 8 Terminate"
   ]
  },
  {
   "cell_type": "code",
   "execution_count": null,
   "metadata": {},
   "outputs": [],
   "source": []
  },
  {
   "cell_type": "code",
   "execution_count": null,
   "metadata": {},
   "outputs": [],
   "source": []
  },
  {
   "cell_type": "code",
   "execution_count": null,
   "metadata": {},
   "outputs": [],
   "source": []
  },
  {
   "cell_type": "code",
   "execution_count": null,
   "metadata": {},
   "outputs": [],
   "source": []
  },
  {
   "cell_type": "code",
   "execution_count": null,
   "metadata": {},
   "outputs": [],
   "source": []
  }
 ],
 "metadata": {
  "kernelspec": {
   "display_name": "Python 3",
   "language": "python",
   "name": "python3"
  },
  "language_info": {
   "codemirror_mode": {
    "name": "ipython",
    "version": 3
   },
   "file_extension": ".py",
   "mimetype": "text/x-python",
   "name": "python",
   "nbconvert_exporter": "python",
   "pygments_lexer": "ipython3",
   "version": "3.6.5"
  }
 },
 "nbformat": 4,
 "nbformat_minor": 2
}
