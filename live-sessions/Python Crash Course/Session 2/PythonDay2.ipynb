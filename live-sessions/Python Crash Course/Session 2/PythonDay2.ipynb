{
 "cells": [
  {
   "cell_type": "code",
   "execution_count": 1,
   "metadata": {},
   "outputs": [],
   "source": [
    "#Loops in Action\n",
    "# used for repeatedly doing any activity!!!\n",
    "# for / while"
   ]
  },
  {
   "cell_type": "code",
   "execution_count": 8,
   "metadata": {},
   "outputs": [
    {
     "name": "stdout",
     "output_type": "stream",
     "text": [
      "13579"
     ]
    }
   ],
   "source": [
    "range(5) # range is used to generate series of numbers\n",
    "#means it returns 0,1,2,3,4  (n-1)\n",
    "\n",
    "for i in range(1,10,2):  #  start,end,increament\n",
    "    print(i,end='')  # a keyword called 'end' is used to specify delimiter b/w\n",
    "                  #values  default is \\n i replaced it with blank('')"
   ]
  },
  {
   "cell_type": "code",
   "execution_count": 9,
   "metadata": {},
   "outputs": [],
   "source": [
    "#While loops"
   ]
  },
  {
   "cell_type": "code",
   "execution_count": 10,
   "metadata": {},
   "outputs": [
    {
     "name": "stdout",
     "output_type": "stream",
     "text": [
      "1\n",
      "2\n",
      "3\n",
      "4\n",
      "5\n",
      "6\n",
      "7\n",
      "8\n",
      "9\n",
      "10\n"
     ]
    }
   ],
   "source": [
    "meter=1\n",
    "while(meter<=10):\n",
    "    print(meter)\n",
    "    meter+=1"
   ]
  },
  {
   "cell_type": "code",
   "execution_count": null,
   "metadata": {},
   "outputs": [],
   "source": [
    "#Program to Accept 3 Numbers and add them all!!!"
   ]
  },
  {
   "cell_type": "code",
   "execution_count": 11,
   "metadata": {},
   "outputs": [
    {
     "name": "stdout",
     "output_type": "stream",
     "text": [
      "Hey! Tell me a number\n",
      "7\n",
      "Hey! Tell me a number\n",
      "3\n",
      "Hey! Tell me a number\n",
      "5\n",
      "Woha! the Sum is  15  so cool!!\n"
     ]
    }
   ],
   "source": [
    "total=0\n",
    "\n",
    "for x in range(3):\n",
    "    num=int(input(\"Hey! Tell me a number\\n\"))\n",
    "    if x==2:\n",
    "        break\n",
    "    total+=num\n",
    "\n",
    "print(\"Woha! the Sum is \",total, \" so cool!!\")\n",
    "    \n"
   ]
  },
  {
   "cell_type": "code",
   "execution_count": null,
   "metadata": {},
   "outputs": [],
   "source": [
    "# List in Action!!!  "
   ]
  },
  {
   "cell_type": "code",
   "execution_count": 13,
   "metadata": {},
   "outputs": [
    {
     "name": "stdout",
     "output_type": "stream",
     "text": [
      "<class 'list'>\n"
     ]
    }
   ],
   "source": [
    "fruits=[]  # <- a sweet cute empty list\n",
    "\n",
    "fruits=[\"Apple\",\"Mango\",\"Cherry\",\"PineApple\",\"Plum\"]\n",
    "\n",
    "print(type(fruits))"
   ]
  },
  {
   "cell_type": "code",
   "execution_count": null,
   "metadata": {},
   "outputs": [],
   "source": [
    "# Some Importent Points about List\n",
    "# -> List are Ordered\n",
    "# -> List can contain arbitrary (any type) Objects.\n",
    "# -> List can be nested\n",
    "# -> List are Mutable\n",
    "# -> List is  Dynamic Data Structure"
   ]
  },
  {
   "cell_type": "code",
   "execution_count": 14,
   "metadata": {},
   "outputs": [
    {
     "name": "stdout",
     "output_type": "stream",
     "text": [
      "['Apple', 'Mango', 'Cherry', 'PineApple', 'Plum']\n"
     ]
    }
   ],
   "source": [
    "print(fruits)"
   ]
  },
  {
   "cell_type": "code",
   "execution_count": 15,
   "metadata": {},
   "outputs": [
    {
     "name": "stdout",
     "output_type": "stream",
     "text": [
      "Apple\n",
      "Mango\n",
      "Cherry\n",
      "PineApple\n",
      "Plum\n"
     ]
    }
   ],
   "source": [
    "# lets Display the List of Fruits using loop\n",
    "\n",
    "#Observe the construction of loop\n",
    "\n",
    "for item in fruits:\n",
    "    print(item)\n"
   ]
  },
  {
   "cell_type": "code",
   "execution_count": 17,
   "metadata": {},
   "outputs": [
    {
     "name": "stdout",
     "output_type": "stream",
     "text": [
      "100\n",
      "Pen Drive\n",
      "12.5\n",
      "True\n",
      "100\n"
     ]
    }
   ],
   "source": [
    "# List can contain arbitrary objects\n",
    "\n",
    "groccery=[100,\"Pen Drive\",12.5,True,100]\n",
    "\n",
    "for oogabooga in groccery:\n",
    "    print(oogabooga)"
   ]
  },
  {
   "cell_type": "code",
   "execution_count": 19,
   "metadata": {},
   "outputs": [
    {
     "name": "stdout",
     "output_type": "stream",
     "text": [
      "100\n",
      "200\n",
      "['hello', 'world', 'stay', 'happy']\n",
      "300\n",
      "400\n"
     ]
    }
   ],
   "source": [
    "# List can be nested\n",
    "\n",
    "various_list=[100,200,[\"hello\",\"world\",\"stay\",\"happy\"],300,400]\n",
    "\n",
    "#print(various_list)\n",
    "#for item in various_list:\n",
    "#    print(item)\n"
   ]
  },
  {
   "cell_type": "code",
   "execution_count": 20,
   "metadata": {},
   "outputs": [
    {
     "name": "stdout",
     "output_type": "stream",
     "text": [
      "Grrr\n",
      "['Meow', 'hiss', 'quack quack']\n",
      "['Woof Woof', 'Meow', 'hiss']\n",
      "quack quack\n"
     ]
    }
   ],
   "source": [
    "# Index Based Access\n",
    "\n",
    "animal_Sounds =[\"Grrr\",\"Woof Woof\",\"Meow\",\"hiss\",\"quack quack\"]\n",
    "\n",
    "print(animal_Sounds[0])\n",
    "print(animal_Sounds[2:])\n",
    "print(animal_Sounds[1:4]) #1,2,3 (n-1)\n",
    "print(animal_Sounds[-1]) # last index\n"
   ]
  },
  {
   "cell_type": "code",
   "execution_count": 22,
   "metadata": {},
   "outputs": [
    {
     "name": "stdout",
     "output_type": "stream",
     "text": [
      "5\n",
      "quack quack\n",
      "Grrr\n"
     ]
    }
   ],
   "source": [
    "# Length List\n",
    "\n",
    "print(len(animal_Sounds))\n",
    "print(max(animal_Sounds))\n",
    "print(min(animal_Sounds))"
   ]
  },
  {
   "cell_type": "code",
   "execution_count": null,
   "metadata": {},
   "outputs": [],
   "source": [
    "# Some COOL Function which are life saver when dealing with data "
   ]
  },
  {
   "cell_type": "code",
   "execution_count": 23,
   "metadata": {},
   "outputs": [],
   "source": [
    "avengers_team=[\"Captain America\",\"Thor\",\"BatMan\",\"Panther\",\"IronMan\"]"
   ]
  },
  {
   "cell_type": "code",
   "execution_count": 25,
   "metadata": {},
   "outputs": [
    {
     "name": "stdout",
     "output_type": "stream",
     "text": [
      "['Captain America', 'Thor', 'BatMan', 'Panther', 'IronMan']\n",
      "['Captain America', 'Hulk', 'BatMan', 'Panther', 'IronMan']\n"
     ]
    }
   ],
   "source": [
    "print(avengers_team)\n",
    "#lets replace Thor with hulk\n",
    "\n",
    "avengers_team[1]=\"Hulk\"\n",
    "\n",
    "print(avengers_team)"
   ]
  },
  {
   "cell_type": "code",
   "execution_count": 26,
   "metadata": {},
   "outputs": [
    {
     "name": "stdout",
     "output_type": "stream",
     "text": [
      "['Captain America', 'Hulk', 'BatMan', 'Panther', 'IronMan', 'Black Widow']\n"
     ]
    }
   ],
   "source": [
    "#append is a function used to add item into the list\n",
    "avengers_team.append(\"Black Widow\")\n",
    "print(avengers_team)"
   ]
  },
  {
   "cell_type": "code",
   "execution_count": 28,
   "metadata": {},
   "outputs": [
    {
     "data": {
      "text/plain": [
       "['Captain America',\n",
       " 'Hulk',\n",
       " 'BatMan',\n",
       " 'Panther',\n",
       " 'IronMan',\n",
       " 'Black Widow',\n",
       " 'SuperMan',\n",
       " 'Flash',\n",
       " 'AquaMan']"
      ]
     },
     "execution_count": 28,
     "metadata": {},
     "output_type": "execute_result"
    }
   ],
   "source": [
    "DC_Players=[\"SuperMan\",\"Flash\",\"AquaMan\"]\n",
    "\n",
    "avengers_team.extend(DC_Players)\n",
    "\n",
    "#Extend function is used to add a whole list into another list\n",
    "\n",
    "avengers_team"
   ]
  },
  {
   "cell_type": "code",
   "execution_count": 29,
   "metadata": {},
   "outputs": [
    {
     "name": "stdout",
     "output_type": "stream",
     "text": [
      "['Captain America', 'Hulk', 'BatMan', 'Panther', 'IronMan', 'Black Widow', 'SuperMan', 'Flash']\n"
     ]
    }
   ],
   "source": [
    "# Remove AquaMan\n",
    "avengers_team.remove(\"AquaMan\")\n",
    "print(avengers_team)"
   ]
  },
  {
   "cell_type": "code",
   "execution_count": 30,
   "metadata": {},
   "outputs": [
    {
     "name": "stdout",
     "output_type": "stream",
     "text": [
      "['Captain America', 'Time Controller', 'Hulk', 'BatMan', 'Panther', 'IronMan', 'Black Widow', 'SuperMan', 'Flash']\n"
     ]
    }
   ],
   "source": [
    "# inserting in between\n",
    "avengers_team.insert(1,\"Time Controller\")\n",
    "print(avengers_team)"
   ]
  },
  {
   "cell_type": "code",
   "execution_count": 31,
   "metadata": {},
   "outputs": [
    {
     "name": "stdout",
     "output_type": "stream",
     "text": [
      "Hey! Hulk here call him lets win the planet\n"
     ]
    }
   ],
   "source": [
    "# Duplicate Checks # in not in\n",
    "\n",
    "if \"Hulk\" in avengers_team:\n",
    "    print(\"Hey! Hulk here call him lets win the planet\")\n",
    "else:\n",
    "    print(\"Call Hulk Lets win the planet\")\n"
   ]
  },
  {
   "cell_type": "code",
   "execution_count": 33,
   "metadata": {},
   "outputs": [
    {
     "name": "stdout",
     "output_type": "stream",
     "text": [
      "('Sunday', 'Monday', 'Tuesday', 'Wednesday', ' and so on')\n",
      "<class 'tuple'>\n"
     ]
    }
   ],
   "source": [
    "# Tuples   are Immutable\n",
    "days = (\"Sunday\",\"Monday\",\"Tuesday\",\"Wednesday\",\" and so on\")\n",
    "\n",
    "print(days)\n",
    "print(type(days))"
   ]
  },
  {
   "cell_type": "code",
   "execution_count": 37,
   "metadata": {},
   "outputs": [],
   "source": [
    "new_days=list(days)"
   ]
  },
  {
   "cell_type": "code",
   "execution_count": null,
   "metadata": {},
   "outputs": [],
   "source": [
    "#Dictionary In Action  (Magic of Key/Value Pair)"
   ]
  },
  {
   "cell_type": "code",
   "execution_count": 38,
   "metadata": {},
   "outputs": [],
   "source": [
    "lang ={\"en\":\"English\",\"jp\":\"Japanese\",\"fr\":\"French\",\"ge\":\"German\",\"hn\":\"Hindi\"}"
   ]
  },
  {
   "cell_type": "code",
   "execution_count": 39,
   "metadata": {},
   "outputs": [
    {
     "data": {
      "text/plain": [
       "{'en': 'English',\n",
       " 'jp': 'Japanease',\n",
       " 'fr': 'French',\n",
       " 'ge': 'German',\n",
       " 'hn': 'Hindi'}"
      ]
     },
     "execution_count": 39,
     "metadata": {},
     "output_type": "execute_result"
    }
   ],
   "source": [
    "lang"
   ]
  },
  {
   "cell_type": "code",
   "execution_count": 40,
   "metadata": {},
   "outputs": [
    {
     "data": {
      "text/plain": [
       "'French'"
      ]
     },
     "execution_count": 40,
     "metadata": {},
     "output_type": "execute_result"
    }
   ],
   "source": [
    "lang[\"fr\"]"
   ]
  },
  {
   "cell_type": "code",
   "execution_count": 44,
   "metadata": {},
   "outputs": [
    {
     "name": "stdout",
     "output_type": "stream",
     "text": [
      "en   English\n",
      "jp   Japanease\n",
      "fr   French\n",
      "ge   German\n",
      "hn   Hindi\n"
     ]
    }
   ],
   "source": [
    "for key in lang:\n",
    "    print(key,\" \",lang[key])\n",
    "    \n",
    "lang[\"te\"]=\"Telegu\""
   ]
  },
  {
   "cell_type": "code",
   "execution_count": 45,
   "metadata": {},
   "outputs": [
    {
     "name": "stdout",
     "output_type": "stream",
     "text": [
      "Key is en and Value is  English\n",
      "Key is jp and Value is  Japanease\n",
      "Key is fr and Value is  French\n",
      "Key is ge and Value is  German\n",
      "Key is hn and Value is  Hindi\n"
     ]
    }
   ],
   "source": [
    "# standard way of printing\n",
    "\n",
    "for k,v in lang.items(): # (en,english)...\n",
    "    print(\"Key is {} and Value is  {}\".format(k,v))# revision\n"
   ]
  },
  {
   "cell_type": "code",
   "execution_count": 46,
   "metadata": {},
   "outputs": [
    {
     "name": "stdout",
     "output_type": "stream",
     "text": [
      "All Keys \n",
      "\n",
      "dict_keys(['en', 'jp', 'fr', 'ge', 'hn'])\n",
      "\n",
      " All Values \n",
      "\n",
      "dict_values(['English', 'Japanease', 'French', 'German', 'Hindi'])\n"
     ]
    }
   ],
   "source": [
    "# keys() and values\n",
    "\n",
    "all_keys=lang.keys()\n",
    "all_values=lang.values()\n",
    "print(\"All Keys \\n\")\n",
    "print(all_keys)\n",
    "\n",
    "print(\"\\n All Values \\n\")\n",
    "print(all_values)"
   ]
  },
  {
   "cell_type": "code",
   "execution_count": 49,
   "metadata": {},
   "outputs": [
    {
     "name": "stdout",
     "output_type": "stream",
     "text": [
      "Strong-Crappy-Cool-Wonder\n"
     ]
    }
   ],
   "source": [
    "msg=[\"Strong\",\"Crappy\",\"Cool\",\"Wonder\"]\n",
    "\n",
    "friendly_msg='-'.join(msg)  #< how to convert list into string\n",
    "\n",
    "print(friendly_msg)"
   ]
  },
  {
   "cell_type": "code",
   "execution_count": 51,
   "metadata": {},
   "outputs": [
    {
     "name": "stdout",
     "output_type": "stream",
     "text": [
      "Shyam\n",
      "['Radhe', 'Shyam', 'Benarjee']\n"
     ]
    }
   ],
   "source": [
    "name=\"Radhe Shyam Benarjee\"\n",
    "names = name.split(\" \")\n",
    "print(names[1])\n",
    "print(names)"
   ]
  },
  {
   "cell_type": "code",
   "execution_count": null,
   "metadata": {},
   "outputs": [],
   "source": []
  },
  {
   "cell_type": "code",
   "execution_count": null,
   "metadata": {},
   "outputs": [],
   "source": []
  }
 ],
 "metadata": {
  "kernelspec": {
   "display_name": "Python 3",
   "language": "python",
   "name": "python3"
  },
  "language_info": {
   "codemirror_mode": {
    "name": "ipython",
    "version": 3
   },
   "file_extension": ".py",
   "mimetype": "text/x-python",
   "name": "python",
   "nbconvert_exporter": "python",
   "pygments_lexer": "ipython3",
   "version": "3.6.5"
  }
 },
 "nbformat": 4,
 "nbformat_minor": 2
}
