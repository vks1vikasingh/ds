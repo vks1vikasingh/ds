{
 "cells": [
  {
   "cell_type": "code",
   "execution_count": 1,
   "metadata": {},
   "outputs": [],
   "source": [
    "# File Handling in Action!!! \n",
    "# Lets Rock the CODE!!!"
   ]
  },
  {
   "cell_type": "code",
   "execution_count": 5,
   "metadata": {},
   "outputs": [
    {
     "name": "stdout",
     "output_type": "stream",
     "text": [
      "File Name :  d:\\upgrad\\info.txt\n",
      "is CLosed :  False\n",
      "Mode :  w\n",
      "is CLosed :  True\n"
     ]
    }
   ],
   "source": [
    "fileObject = open(r\"d:\\upgrad\\info.txt\",\"w\") # this is    Open (Path,Mode)\n",
    "\n",
    "#Reason for creating a refrence to the file (fileObject)\n",
    "\n",
    "print(\"File Name : \",fileObject.name)\n",
    "print(\"is CLosed : \",fileObject.closed)\n",
    "print(\"Mode : \",fileObject.mode)\n",
    "\n",
    "fileObject.close()\n",
    "\n",
    "print(\"is CLosed : \",fileObject.closed)"
   ]
  },
  {
   "cell_type": "code",
   "execution_count": null,
   "metadata": {},
   "outputs": [],
   "source": [
    "# Reading Files in Python"
   ]
  },
  {
   "cell_type": "code",
   "execution_count": 15,
   "metadata": {},
   "outputs": [
    {
     "name": "stdout",
     "output_type": "stream",
     "text": [
      "pytho\n",
      "----------\n",
      "<class 'str'>\n"
     ]
    }
   ],
   "source": [
    "fo = open(\"d:\\\\upgrad\\\\info.txt\",\"r\")\n",
    "\n",
    "data = fo.read()  # here read() is a function which returns file content\n",
    "\n",
    "print(data) # lets find what /how much data is retrieved?\n",
    "print(\"----------\")\n",
    "print(type(data))"
   ]
  },
  {
   "cell_type": "code",
   "execution_count": 16,
   "metadata": {},
   "outputs": [],
   "source": [
    "fo.close() # lets close the connection"
   ]
  },
  {
   "cell_type": "code",
   "execution_count": 17,
   "metadata": {},
   "outputs": [
    {
     "name": "stdout",
     "output_type": "stream",
     "text": [
      "python supports file handling\n",
      "\n"
     ]
    }
   ],
   "source": [
    "fo = open(\"d:\\\\upgrad\\\\info.txt\",\"r\")\n",
    "\n",
    "line = fo.readline() # readline() which returns a single line..\n",
    "print(line)\n",
    "\n",
    "fo.close()"
   ]
  },
  {
   "cell_type": "code",
   "execution_count": 21,
   "metadata": {},
   "outputs": [
    {
     "name": "stdout",
     "output_type": "stream",
     "text": [
      "['python supports file handling\\n', 'there are many modes here\\n', 'r for reading\\n', 'w for writing\\n', 'a for append\\n', 'r+ for read and write\\n', 'all  right this is file content\\n', 'and too much content\\n', 'and end of file']\n",
      "-------------\n",
      "python supports file handling\n",
      "\n",
      "there are many modes here\n",
      "\n",
      "r for reading\n",
      "\n",
      "w for writing\n",
      "\n",
      "a for append\n",
      "\n",
      "r+ for read and write\n",
      "\n",
      "all  right this is file content\n",
      "\n",
      "and too much content\n",
      "\n",
      "and end of file\n"
     ]
    }
   ],
   "source": [
    "fo = open(\"d:\\\\upgrad\\\\info.txt\",\"r\")\n",
    "\n",
    "lines = fo.readlines() # readlines() which returns file content in list form..\n",
    "\n",
    "print(lines)\n",
    "print(\"-------------\")\n",
    "for line in lines:\n",
    "    print(line)\n",
    "\n",
    "fo.close()"
   ]
  },
  {
   "cell_type": "code",
   "execution_count": null,
   "metadata": {},
   "outputs": [],
   "source": [
    "# Another Demo on Reading a File ( The magical ONE!!!)"
   ]
  },
  {
   "cell_type": "code",
   "execution_count": 22,
   "metadata": {},
   "outputs": [
    {
     "name": "stdout",
     "output_type": "stream",
     "text": [
      "python supports file handling\n",
      "\n",
      "there are many modes here\n",
      "\n",
      "r for reading\n",
      "\n",
      "w for writing\n",
      "\n",
      "a for append\n",
      "\n",
      "r+ for read and write\n",
      "\n",
      "all  right this is file content\n",
      "\n",
      "and too much content\n",
      "\n",
      "and end of file\n"
     ]
    }
   ],
   "source": [
    "fo = open(\"d:\\\\upgrad\\\\info.txt\",\"r\")\n",
    "\n",
    "for line in fo: #it returns the file content line by line.\n",
    "    print(line)"
   ]
  },
  {
   "cell_type": "code",
   "execution_count": 23,
   "metadata": {},
   "outputs": [],
   "source": [
    "fo.close()"
   ]
  },
  {
   "cell_type": "code",
   "execution_count": null,
   "metadata": {},
   "outputs": [],
   "source": [
    "# WOha!!!  File Reading is COOL now Lets Do HOT File Writing.."
   ]
  },
  {
   "cell_type": "code",
   "execution_count": 31,
   "metadata": {},
   "outputs": [
    {
     "name": "stdout",
     "output_type": "stream",
     "text": [
      "Enter Your Msg\n",
      "Learning is Fun!!!\n",
      "Hey! File is Ready!!!\n"
     ]
    }
   ],
   "source": [
    "#Write One (completed)\n",
    "#Write TWO (doing...)\n",
    "\n",
    "fo = open(\"d:\\\\upgrad\\\\story.txt\",\"a\")\n",
    "\n",
    "msg= input(\"Enter Your Msg\\n\")\n",
    "fo.write(msg+\"\\n\")\n",
    "\n",
    "fo.close()\n",
    "\n",
    "print(\"Hey! File is Ready!!!\")"
   ]
  },
  {
   "cell_type": "code",
   "execution_count": null,
   "metadata": {},
   "outputs": [],
   "source": [
    "#small Activity!!! Can you Write Code For Generating Table of 13 and \n",
    "#Save in a File called 13.txt"
   ]
  },
  {
   "cell_type": "code",
   "execution_count": null,
   "metadata": {},
   "outputs": [],
   "source": [
    "# Seek in Python"
   ]
  },
  {
   "cell_type": "code",
   "execution_count": 36,
   "metadata": {},
   "outputs": [
    {
     "name": "stdout",
     "output_type": "stream",
     "text": [
      "python sup\n",
      "Current Position :  10\n",
      "python sup\n"
     ]
    }
   ],
   "source": [
    "fo = open(\"d:\\\\upgrad\\\\info.txt\",\"r\") # Opening a file to read\n",
    "msg1 = fo.read(10) # reading first 10 char\n",
    "print(msg1)\n",
    "\n",
    "cp= fo.tell() \n",
    "print(\"Current Position : \",cp) \n",
    "\n",
    "fo.seek(0,0)\n",
    "\n",
    "msg1=fo.read(10)\n",
    "\n",
    "print(msg1)"
   ]
  },
  {
   "cell_type": "code",
   "execution_count": 33,
   "metadata": {},
   "outputs": [],
   "source": [
    "fo.close()"
   ]
  },
  {
   "cell_type": "code",
   "execution_count": null,
   "metadata": {},
   "outputs": [],
   "source": []
  }
 ],
 "metadata": {
  "kernelspec": {
   "display_name": "Python 3",
   "language": "python",
   "name": "python3"
  },
  "language_info": {
   "codemirror_mode": {
    "name": "ipython",
    "version": 3
   },
   "file_extension": ".py",
   "mimetype": "text/x-python",
   "name": "python",
   "nbconvert_exporter": "python",
   "pygments_lexer": "ipython3",
   "version": "3.6.5"
  }
 },
 "nbformat": 4,
 "nbformat_minor": 2
}
